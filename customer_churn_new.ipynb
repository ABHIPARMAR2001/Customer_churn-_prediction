{
 "cells": [
  {
   "cell_type": "code",
   "execution_count": 1,
   "id": "8e2839e4-fac9-454e-8ca4-a01d12037505",
   "metadata": {},
   "outputs": [
    {
     "name": "stdout",
     "output_type": "stream",
     "text": [
      "Confusion Matrix:\n",
      "[[1526   69]\n",
      " [ 309   96]]\n",
      "\n",
      "Model Accuracy: 0.81\n"
     ]
    }
   ],
   "source": [
    "# Part 1 - Data Preprocessing\n",
    "\n",
    "# Importing the libraries\n",
    "import pandas as pd\n",
    "from sklearn.model_selection import train_test_split\n",
    "from sklearn.preprocessing import StandardScaler, OneHotEncoder\n",
    "from sklearn.compose import ColumnTransformer\n",
    "\n",
    "# Importing the dataset\n",
    "# Make sure your CSV file is in the same directory or provide the correct path\n",
    "dataset = pd.read_csv('Churn_Modelling.csv')\n",
    "X = dataset.iloc[:, 3:13]  # Features, including categorical ones\n",
    "y = dataset.iloc[:, 13]   # Target variable 'Exited'\n",
    "\n",
    "# Encoding categorical data\n",
    "# Use a ColumnTransformer for a cleaner approach\n",
    "ct = ColumnTransformer(\n",
    "    transformers=[('encoder', OneHotEncoder(), [1, 2])],  # Columns 1 ('Geography') and 2 ('Gender')\n",
    "    remainder='passthrough'\n",
    ")\n",
    "X = ct.fit_transform(X)\n",
    "\n",
    "# A common issue is a 'Female' column and a 'Male' column after encoding Gender.\n",
    "# Drop one of them to avoid multicollinearity.\n",
    "X = X[:, 1:]\n",
    "\n",
    "# Splitting the dataset into the Training set and Test set\n",
    "X_train, X_test, y_train, y_test = train_test_split(X, y, test_size=0.2, random_state=0)\n",
    "\n",
    "# Feature Scaling\n",
    "sc = StandardScaler()\n",
    "X_train = sc.fit_transform(X_train)\n",
    "X_test = sc.transform(X_test)\n",
    "\n",
    "# ---------------------------------------------------------------------------------------\n",
    "\n",
    "# Part 2 - Building and Training the Logistic Regression Model\n",
    "\n",
    "# Importing the Logistic Regression class\n",
    "from sklearn.linear_model import LogisticRegression\n",
    "\n",
    "# Creating the classifier object\n",
    "classifier = LogisticRegression(random_state=0)\n",
    "\n",
    "# Training the model on the training set\n",
    "classifier.fit(X_train, y_train)\n",
    "\n",
    "# ---------------------------------------------------------------------------------------\n",
    "\n",
    "# Part 3 - Predicting and Evaluating the Model\n",
    "\n",
    "# Making the Confusion Matrix\n",
    "from sklearn.metrics import confusion_matrix, accuracy_score\n",
    "\n",
    "# Predicting the Test set results\n",
    "y_pred = classifier.predict(X_test)\n",
    "\n",
    "cm = confusion_matrix(y_test, y_pred)\n",
    "print(\"Confusion Matrix:\")\n",
    "print(cm)\n",
    "print()\n",
    "accuracy = accuracy_score(y_test, y_pred)\n",
    "print(f\"Model Accuracy: {accuracy:.2f}\")"
   ]
  }
 ],
 "metadata": {
  "kernelspec": {
   "display_name": "Python [conda env:anaconda3]",
   "language": "python",
   "name": "conda-env-anaconda3-py"
  },
  "language_info": {
   "codemirror_mode": {
    "name": "ipython",
    "version": 3
   },
   "file_extension": ".py",
   "mimetype": "text/x-python",
   "name": "python",
   "nbconvert_exporter": "python",
   "pygments_lexer": "ipython3",
   "version": "3.13.5"
  }
 },
 "nbformat": 4,
 "nbformat_minor": 5
}
